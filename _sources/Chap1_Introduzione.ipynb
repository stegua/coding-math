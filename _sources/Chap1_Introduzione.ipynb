{
 "cells": [
  {
   "cell_type": "markdown",
   "metadata": {},
   "source": [
    "# 1. Elementi di Programmazione\n",
    "\n",
    "Storicamente, il primo linguaggio di programmazione è stato inventato per istruire una macchina ad eseguire dei calcoli in modo automatico. Ad oggi, viene riconosciuto che un linguaggio di programmazione serve prima di tutto per organizzare le nostre idee su come quei calcoli devono essere svolti da una macchina. Per questo, nella scelta di un linguaggio di programmazione, si deve tener presente quali siano gli strumenti che vengono offerti dal linguaggio per formare, a partire da poche idee semplici, delle idee più complesse.\n",
    "\n",
    "Ogni linguaggio di programmazione dovrebbe avere almeno tre elementi per poter permettere di raggiungere l'obiettivo di comporre poche idee semplici in idee più complesse. I tre elementi sono:\n",
    "\n",
    "1. Le **espressioni primitive** che rappresentano le entità più semplici del linguaggio.\n",
    "\n",
    "2. I metodi per **comporre** gli elementi primitivi in elementi derivati.\n",
    "\n",
    "3. I metodi per **astrarre** concetti primitivi in modo che gli elementi derivati possano essere utilizzati a loro volta come elementi primitivi di entità ancora più complesse.\n",
    "\n",
    "In un linguaggio di programmazione, le espressioni primitive che possiamo usare sono le *espressioni logiche* e le *espressioni aritmetiche*. Inoltre, si possono usare due tipi di elementi primitive: le **PROCEDURE** e i **DATI**. In modo informale, possiamo definire i **dati** come gli oggetti che vorremmo manipolare, e le **procedure** come la descrizione di regole per manipolare questi dati. Una procedura *implementa* un algoritmo, per trasformare un dato di input in un particolare output."
   ]
  },
  {
   "cell_type": "markdown",
   "metadata": {},
   "source": [
    "## 1.1 Dati e procedure numeriche\n",
    "Iniziamo a illustrare sotto qualche semplice espressione valutata dall'interprete di Python: se digitiamo alla tastiera una **espressione**, l'interprete risponde **valutando** tale espressione. Per esempio se digitiamo la sequenza di caratteri 345 e poi premiamo la combinazione di tasti `shift + enter`, l'interprete valuta l'espressione che abbiamo appena scritto:"
   ]
  },
  {
   "cell_type": "code",
   "execution_count": null,
   "metadata": {},
   "outputs": [],
   "source": [
    "345"
   ]
  },
  {
   "cell_type": "code",
   "execution_count": null,
   "metadata": {},
   "outputs": [],
   "source": [
    "type(345)"
   ]
  },
  {
   "cell_type": "markdown",
   "metadata": {},
   "source": [
    "In questo esempio, la sequenza di caratteri *3,4,5* è stato convertita nel numero intero 345, come si può verificare utilizzando la funzione primitiva `type(x)`, che stampa a video il tipo di dato del valore di input `x`. Se avessimo racchiuso la sequenza di caratteri *3,4,5*, l'interprete di Python avrebbe convertito la sequenza in una **stringa** di caratteri, ovvero un dato primitivo di tipo `str`."
   ]
  },
  {
   "cell_type": "code",
   "execution_count": null,
   "metadata": {},
   "outputs": [],
   "source": [
    "\"345\""
   ]
  },
  {
   "cell_type": "code",
   "execution_count": null,
   "metadata": {},
   "outputs": [],
   "source": [
    "type('345')"
   ]
  },
  {
   "cell_type": "markdown",
   "metadata": {},
   "source": [
    "Utilizzando le procedure primitive che corrispondono agli operatori aritmetici fondamentali, possiamo comporre delle semplici espressioni aritmetiche che permettono di manipolare dei dati primitivi di tipo numerico (alla pari di qualsiasi calcolatrice). Per esempio:"
   ]
  },
  {
   "cell_type": "code",
   "execution_count": null,
   "metadata": {},
   "outputs": [],
   "source": [
    "339 + 6"
   ]
  },
  {
   "cell_type": "code",
   "execution_count": null,
   "metadata": {},
   "outputs": [],
   "source": [
    "345 - 6"
   ]
  },
  {
   "cell_type": "code",
   "execution_count": null,
   "metadata": {},
   "outputs": [],
   "source": [
    "2.7 / 12.1"
   ]
  },
  {
   "cell_type": "code",
   "execution_count": null,
   "metadata": {},
   "outputs": [],
   "source": [
    "type(345 - 12/6)"
   ]
  },
  {
   "cell_type": "code",
   "execution_count": null,
   "metadata": {},
   "outputs": [],
   "source": [
    "345 % 7"
   ]
  },
  {
   "cell_type": "code",
   "execution_count": null,
   "metadata": {},
   "outputs": [],
   "source": [
    "3//2\n"
   ]
  },
  {
   "cell_type": "code",
   "execution_count": null,
   "metadata": {},
   "outputs": [],
   "source": [
    "7 + (2*49)\n",
    "49 * 2 + 7"
   ]
  },
  {
   "cell_type": "markdown",
   "metadata": {},
   "source": [
    "In queste semplici espressioni numeriche, è stata implicitamente usata una notazione **postfix**, in cui l'operatore appare dopo il primo operando.\n",
    "\n",
    "Importando e utilizzando la libreria di Python `operator` è possibile esprimere le stesse espressioni in notazione **prefix**: prima si specifica l'*operatore* (ovvero la procedura di calcolo corrispondente che si vuole richiamare), e poi si specificano gli *operandi*."
   ]
  },
  {
   "cell_type": "code",
   "execution_count": null,
   "metadata": {},
   "outputs": [],
   "source": [
    "# Importa tutte le procedure (funzioni) definite nel modulo \"operator\"\n",
    "from operator import add, sub, mul, truediv, floordiv, mod"
   ]
  },
  {
   "cell_type": "code",
   "execution_count": null,
   "metadata": {},
   "outputs": [],
   "source": [
    "sub(345, truediv(12, 6))"
   ]
  },
  {
   "cell_type": "markdown",
   "metadata": {},
   "source": [
    "Si consiglia di leggere la **documentazione** della libreria `operator` sul sito di [python](https://docs.python.org/3.10/library/operator.html). Le funzioni principali che useremo in questo notebook sono:\n",
    "\n",
    "* `add(a,b)` corrisponde ad `a+b`\n",
    "* `sub(a,b)` corrisponde ad `a-b`\n",
    "* `mul(a,b)` corrisponde ad `a*b`\n",
    "* `truediv(a,b)` corrisponde ad `a/b`\n",
    "* `floordiv(a,b)` corrisponde ad `a//b` (divisione tra numeri interi, senza resto)\n",
    "* `mod(a,b)` corrisponde ad `a%b` (resto della divisione tra numeri interi\n",
    "\n",
    "Per esempio:"
   ]
  },
  {
   "cell_type": "code",
   "execution_count": null,
   "metadata": {},
   "outputs": [],
   "source": [
    "add(339, 6)"
   ]
  },
  {
   "cell_type": "markdown",
   "metadata": {},
   "source": [
    "Uno dei vantaggi della notazione **prefix** è che rende sempre chiaro qual'è l'operatore (ovvero quale procedura) che deve essere utilizzato prima, applicandola a quali dati: `add` è il nome dell'operatore, mentre tra parentesi sono specificati gli operandi, i due dati numerici a cui deve essere applicata l'operazione.\n",
    "\n",
    "Per esempio, si consideri l'espressione seguente:\n",
    "\n",
    "`345 % 11 // 3`\n",
    "\n",
    "Quale operazione si devono svolgere prima? Perché?\n",
    "\n",
    "Qual'è il risultato corretto, 0 oppure 1?:\n",
    "\n",
    "* 345 % 11 // 3 = 0 ?\n",
    "* 345 % 11 // 3 = 1 ?"
   ]
  },
  {
   "cell_type": "code",
   "execution_count": null,
   "metadata": {},
   "outputs": [],
   "source": [
    "345 % 11 // 3"
   ]
  },
  {
   "cell_type": "code",
   "execution_count": null,
   "metadata": {},
   "outputs": [],
   "source": [
    "mod(345, floordiv(11,3))"
   ]
  },
  {
   "cell_type": "code",
   "execution_count": null,
   "metadata": {},
   "outputs": [],
   "source": [
    "floordiv(mod(345, 11), 3)"
   ]
  },
  {
   "cell_type": "markdown",
   "metadata": {},
   "source": [
    "Si consideri l'espressione seguente:"
   ]
  },
  {
   "cell_type": "code",
   "execution_count": null,
   "metadata": {},
   "outputs": [],
   "source": [
    "mul(add(2,3), \n",
    "    (sub(add(2,2), add(3,2))))"
   ]
  },
  {
   "cell_type": "markdown",
   "metadata": {},
   "source": [
    "Si noti come questa espressione risulta essere più chiara se riscritta come:\n",
    "\n",
    "```\n",
    "mul(\n",
    "    add(2, 3),\n",
    "    sub(\n",
    "        add(2, 2),\n",
    "        add(3, 2)\n",
    "    )\n",
    ")\n",
    "```"
   ]
  },
  {
   "cell_type": "markdown",
   "metadata": {},
   "source": [
    "## 1.2 La valutazione di espressioni composte: Read-Evaluate-Print-Loop\n",
    "Per elaborare delle espressioni composte, l'interprete di un linguaggio di programmazione lavora in un ciclo chiamato \"*leggi-valuta-stampa*\" (in inglese **REPL**, acronimo di **Read-Evaluate-Print-Loop**): legge le espressioni composte e le riduce in espressioni primitive, valuta le espressione con un ordine prestabilito, e alla fine stampa a video il risultato finale. L'ordine in cui vengono valutate le espressioni dipende dal linguaggio di programmazione usato.\n",
    "\n",
    "Proviamo ad analizzare come l'interprete del linguaggio valuta operazioni composte come quelle viste prima. La valutazione di operazioni composte avviene attraverso la procedura seguente:\n",
    "\n",
    "Per valutare un'espressione composta:\n",
    "\n",
    "```\n",
    "1. Valuta l'espressione composta (ad esempio, operatore e operandi)\n",
    "\n",
    "2. Valuta le sottoespressioni dell'espressione composta (gli operandi)\n",
    "\n",
    "2. Applica la procedura indicata dalla sottoespressione più a sinistra (l'operatore), agli argomenti che sono i valori che risultano dall'avere valutato la sottoespressione (gli operandi).\n",
    "```    \n",
    "Si noti come questa procedura per valutare un'operazione composta, per prima cosa deve applicare il processo di valutazione ad ogni elemento dell'espressione composta. Quindi, la regola di valutazione di un'espressione è intrinsecamente **RICORSIVA**, ovvero include come uno dei suoi passi la chiamata a se stessa."
   ]
  },
  {
   "cell_type": "markdown",
   "metadata": {},
   "source": [
    "### ESERCIZIO 1.1\n",
    "Disegnare il *recursion tree* (albero di ricorsione) dell'espressione seguente:"
   ]
  },
  {
   "cell_type": "code",
   "execution_count": null,
   "metadata": {},
   "outputs": [],
   "source": [
    "mul(add(2, mul(4, 6)), mul(3, 5))"
   ]
  },
  {
   "cell_type": "markdown",
   "metadata": {},
   "source": [
    "<img src=\"_images/RecursionTree.PNG\" alt=\"Recursion Tree\" style=\"width: 400px;\"/>"
   ]
  },
  {
   "cell_type": "markdown",
   "metadata": {},
   "source": [
    "## 1.3 Assegnazione di nomi ad oggetti\n",
    "Un aspetto critico della programmazione è l'assegnazione dei nomi agli oggetti computazionali.\n",
    "Si dice che un **nome** identifica una **variabile** il cui **valore** è l'oggetto a cui viene associato. Per esempio:"
   ]
  },
  {
   "cell_type": "code",
   "execution_count": null,
   "metadata": {},
   "outputs": [],
   "source": [
    "giusy = 13"
   ]
  },
  {
   "cell_type": "markdown",
   "metadata": {},
   "source": [
    "In questo caso abbiamo una **variabile**, per la quale abbiamo scelto il **nome** `giusy`, il cui **valore** è il numero 13. A questo punto possiamo usare la variabile `giusy` come un oggetto di tipo numerico:"
   ]
  },
  {
   "cell_type": "code",
   "execution_count": null,
   "metadata": {},
   "outputs": [],
   "source": [
    "3*giusy"
   ]
  },
  {
   "cell_type": "code",
   "execution_count": null,
   "metadata": {},
   "outputs": [],
   "source": [
    "add(giusy, add(giusy,giusy))"
   ]
  },
  {
   "cell_type": "markdown",
   "metadata": {},
   "source": [
    "Altri esempi sono:"
   ]
  },
  {
   "cell_type": "code",
   "execution_count": null,
   "metadata": {},
   "outputs": [],
   "source": [
    "pi = 3.14159"
   ]
  },
  {
   "cell_type": "code",
   "execution_count": null,
   "metadata": {},
   "outputs": [],
   "source": [
    "raggio = 5"
   ]
  },
  {
   "cell_type": "code",
   "execution_count": null,
   "metadata": {},
   "outputs": [],
   "source": [
    "circonferenza = 2*pi*raggio"
   ]
  },
  {
   "cell_type": "markdown",
   "metadata": {},
   "source": [
    "In questi tre casi, il ciclo **REPL** si è concluso con un assegnamento, e quindi non è stato stampato nulla a video. Per stampare a video il valore della variabile `circonferenza` abbiamo due possibilità. La prima è semplicemente far valutare dall'interprete il nome della variabile:"
   ]
  },
  {
   "cell_type": "code",
   "execution_count": null,
   "metadata": {},
   "outputs": [],
   "source": [
    "circonferenza"
   ]
  },
  {
   "cell_type": "markdown",
   "metadata": {},
   "source": [
    "Il secondo è di utilizzare esplicitamente la procedure `print(x)`:"
   ]
  },
  {
   "cell_type": "code",
   "execution_count": null,
   "metadata": {},
   "outputs": [],
   "source": [
    "print(circonferenza)"
   ]
  },
  {
   "cell_type": "markdown",
   "metadata": {},
   "source": [
    "Cosa succede alla variabile `circonferenza` se ora cambiamo il valore della variabile `raggio`, come nell'esempio seguente?"
   ]
  },
  {
   "cell_type": "code",
   "execution_count": null,
   "metadata": {},
   "outputs": [],
   "source": [
    "raggio = 10"
   ]
  },
  {
   "cell_type": "code",
   "execution_count": null,
   "metadata": {},
   "outputs": [],
   "source": [
    "circonferenza"
   ]
  },
  {
   "cell_type": "markdown",
   "metadata": {},
   "source": [
    "Cosa è successo? Come mai non ha stampato a video il valore 62.8318?\n",
    "\n",
    "L'interprete del linguaggio, prima, ha letto e valutato l'espressione `2*pi*raggio`, e, dopo, ha assegnato il **valore** ottenuto dalla valutazione dell'**espressione** alla variabile di nome `circonferenza`.\n",
    "\n",
    "In questo contesto, l'operatore di assegnamento `=` rappresenta il più semplice meccanismo di astrazione, perché permette di assegnare un **nome** al risultato di operazioni più complesse, eseguite da una o più procedure. \n",
    "\n",
    "In pratica, qualsiasi programma viene definito partendo dalla costruzione, passo passo, di oggetti computazionali via via più complessi e più astratti.\n",
    "\n",
    "L'uso di un **interprete**, che in modo incrementale valuta le **espressioni** che li vengono passate in input, favorisce la definizione di tante piccole procedure, innestate l'una nell'altra.\n",
    "\n",
    "Dovrebbe essere chiaro a questo punto, che l'interprete deve mantenere una sorta di **MEMORIA GLOBALE** in cui tiene traccia di tutti gli assegnamenti di nomi a oggetti. Questa memoria viene chiamata il `global environment`. In Python, per visualizzare quali sono i nomi di variabili attualmente in memoria si usa il comando `who`:"
   ]
  },
  {
   "cell_type": "code",
   "execution_count": null,
   "metadata": {},
   "outputs": [],
   "source": [
    "who"
   ]
  },
  {
   "cell_type": "markdown",
   "metadata": {},
   "source": [
    "In un notebook di Python, per cancellare tutte le variabili del global environment si può riavviare il kernel utilizzando il menu' `Kernel->Restart`."
   ]
  },
  {
   "cell_type": "code",
   "execution_count": null,
   "metadata": {},
   "outputs": [],
   "source": [
    "who"
   ]
  },
  {
   "cell_type": "markdown",
   "metadata": {},
   "source": [
    "## 1.4 Definizione di nuove procedure composte\n",
    "Abbiamo identificato alcuni elementi che devono appartenere ad un linguaggio di programmazione:\n",
    "\n",
    "1. I numeri sono dei **dati primitivi**.\n",
    "2. Le operazioni aritmetiche delle **procedure primitive** (in gergo, vengono chiamate *builtin*).\n",
    "3. L'**annidamento di espressioni** composte offre un meccanismo per comporre delle operazioni.\n",
    "4. L'**assegnamento** di nomi di variabili a valori offre un livello di astrazione limitato.\n",
    "\n",
    "Abbiamo quindi bisogno di un modo per poter **definire nuove procedure**, in modo che una nuova operazione possa essere definita come composizione di operazioni più semplici.\n",
    "\n",
    "Consideriamo, per esempio, come possiamo definire una procedura che realizzi la funzione di elevamento al quadrato di un numero dato."
   ]
  },
  {
   "cell_type": "code",
   "execution_count": null,
   "metadata": {},
   "outputs": [],
   "source": [
    "quadrato = mul(3, 3)"
   ]
  },
  {
   "cell_type": "code",
   "execution_count": null,
   "metadata": {},
   "outputs": [],
   "source": [
    "quadrato"
   ]
  },
  {
   "cell_type": "code",
   "execution_count": null,
   "metadata": {},
   "outputs": [],
   "source": [
    "power = mul(x,x)\n",
    "print(power)"
   ]
  },
  {
   "cell_type": "markdown",
   "metadata": {},
   "source": [
    "**NOTA:** è molto importante imparare a leggere e capire i messaggi di errore dell'interprete."
   ]
  },
  {
   "cell_type": "code",
   "execution_count": null,
   "metadata": {},
   "outputs": [],
   "source": [
    "x = 7"
   ]
  },
  {
   "cell_type": "markdown",
   "metadata": {},
   "source": [
    "Con gli elementi del linguaggio visti sino ad ora non siamo in grado di definire l'elevamento al quadrato in un modo generico, più astratto.\n",
    "\n",
    "Per ottenere un livello di astrazione più alto abbiamo quindi bisogno di un meccanismo (una sintassi del linguaggio) che ci permetta di definire nuove procedure (funzioni). In Python, la sintassi è la seguente:\n",
    "\n",
    "```\n",
    "def <NomeProcedura>(<lista di parametri formali>):\n",
    "    <corpo della procedura>\n",
    "    return <valore>\n",
    "```\n",
    "\n",
    "Si noti come siano apparse le prime due *parole chiave riservate* del linguaggio: **def** e **return**. Inoltre, `<Nome>` è il nome che noi vogliamo associare alla procedura (funzione) che stiamo definendo, e la `<lista parametri formali>` (chiamati argomenti della procedura) sono le variabili che non appartengono direttamente al *working eniviroment* (ovvero alla MEMORIA GLOBALE dell'interprete), ma sono \"visibili\" solo internamente alla procedura in cui sono definite.\n",
    "\n",
    "Utilizzando questa nuova sintassi, possiamo scrivere la definizione di una procedura per l'elevamento al quadrato nel modo seguente:"
   ]
  },
  {
   "cell_type": "code",
   "execution_count": null,
   "metadata": {},
   "outputs": [],
   "source": [
    "def Quadrato(numero):\n",
    "    return mul(numero, numero)"
   ]
  },
  {
   "cell_type": "code",
   "execution_count": null,
   "metadata": {},
   "outputs": [],
   "source": [
    "Quadrato"
   ]
  },
  {
   "cell_type": "code",
   "execution_count": null,
   "metadata": {},
   "outputs": [],
   "source": [
    "who"
   ]
  },
  {
   "cell_type": "markdown",
   "metadata": {},
   "source": [
    "Per utilizzare la nuova procedura per calcolare il quadrato di un numero, dobbiamo \"richiamarla\" passandogli dei valori numerici come argomento:"
   ]
  },
  {
   "cell_type": "code",
   "execution_count": null,
   "metadata": {},
   "outputs": [],
   "source": [
    "Quadrato(12)"
   ]
  },
  {
   "cell_type": "code",
   "execution_count": null,
   "metadata": {},
   "outputs": [],
   "source": [
    "Quadrato(139)"
   ]
  },
  {
   "cell_type": "code",
   "execution_count": null,
   "metadata": {},
   "outputs": [],
   "source": [
    "Quadrato(mul(3,2))"
   ]
  },
  {
   "cell_type": "markdown",
   "metadata": {},
   "source": [
    "Nella definizione della sintassi per definire nuove procedure, non abbiamo posto nessuna condizione sulle procedure che possono essere richiamate. In pratica, possiamo definire nuove procedure in termini della procedura appena definita `Quadrato(x)`, definendo una nuova procedura chiamata `SommaDiQuadrati(x, y)`:"
   ]
  },
  {
   "cell_type": "code",
   "execution_count": null,
   "metadata": {},
   "outputs": [],
   "source": [
    "def SommaQuadrati(x, y):\n",
    "    return add(Quadrato(x), Quadrato(y))"
   ]
  },
  {
   "cell_type": "code",
   "execution_count": null,
   "metadata": {},
   "outputs": [],
   "source": [
    "SommaQuadrati(4,3)"
   ]
  },
  {
   "cell_type": "markdown",
   "metadata": {},
   "source": [
    "### Applicative Order vs. Normal Order Evaluations\n",
    "Ora che abbiamo introdotto le procedure composte, rivediamo in quale ordine è possibile valutare un'espressione composta. Consideriamo la procedura:\n",
    "\n",
    "```SommaQuadrati(add(3,2), mul(3,2))```\n",
    "\n",
    "Seguendo l'ordine di valutazione specificato sopra, prima valutiamo gli argomenti (gli operandi), valutando la somme $3+2=5$ e il prodotto $3*2=6$, e poi valutiamo la somma $5^2 + 6^2$. Questo ordine di valutazione in cui prima si valutano gli argomenti e poi si applica la procedura, si chiama *Applicative-order Evaluation*.\n",
    "\n",
    "```\n",
    "    SommaQuadrati( add(3,2), mul(3,2) )\n",
    "    SommaQuadrati( 5, 6 )\n",
    "    add( Quadrato(5), Quadrato(6) )\n",
    "    add(   mul(5,5) ,   mul(6,6)  )\n",
    "    add(     25     ,     36      )\n",
    "                    61    \n",
    "```\n",
    "\n",
    "In alternativa, si sarebbe potuto seguire un ordine diverso, in cui prima si applicano le procedure e solo dopo si valutano gli argomenti. Nell'esempio precedente, avremmo avuto l'ordine di valutazione seguente:\n",
    "\n",
    "```\n",
    "    SommaQuadrati( add(3,2), mul(3,2) )   \n",
    "    add(    Quadrato(add(3,2)),      Quadrato(mul(3,2))    )\n",
    "    add(  mul(add(3,2), add(3,2)), mul(mul(3,2), mul(3,2))  )\n",
    "    add(          mul(5, 5)      ,        mul(6, 6)        )\n",
    "    add(              25         ,            36           )\n",
    "                                61\n",
    "```\n",
    "Questo ordine di valutazione si chiama *Normal-order Evaluation*. Si noti che in questo caso, la somma $3+2$ e il prodotto $3*2$ sono eseguiti entrambi due volte. Tuttavia, in alcuni casi questo ordine di valutazione può essere vantaggioso (si veda l'esercizio 1.7)."
   ]
  },
  {
   "cell_type": "code",
   "execution_count": null,
   "metadata": {},
   "outputs": [],
   "source": [
    "SommaQuadrati(add(3,2), mul(3,2))"
   ]
  },
  {
   "cell_type": "markdown",
   "metadata": {},
   "source": [
    "### ESERCIZIO 1.2\n",
    "Si consideri la seguente espressione composta:"
   ]
  },
  {
   "cell_type": "code",
   "execution_count": null,
   "metadata": {},
   "outputs": [],
   "source": [
    "def F(a):\n",
    "    return SommaQuadrati(add(a, 1), mul(a, 2))"
   ]
  },
  {
   "cell_type": "code",
   "execution_count": null,
   "metadata": {},
   "outputs": [],
   "source": [
    "print(\"Il risultato di F(5):\", F(5))"
   ]
  },
  {
   "cell_type": "markdown",
   "metadata": {},
   "source": [
    "Come è stata valutata questa procedura?"
   ]
  },
  {
   "cell_type": "markdown",
   "metadata": {},
   "source": [
    "**OSSERVAZIONE**: con gli elementi del linguaggio sin qui introdotti, possiamo definire una funzione `ValoreAssoluto(x)`, ovvero: \n",
    "\n",
    "$|x| = x$ se $x \\geq 0$, e $|x|=-x$ se $x < 0$? "
   ]
  },
  {
   "cell_type": "markdown",
   "metadata": {},
   "source": [
    "**RISPOSTA**: No, il linguaggio non ancora è abbastanza *espressivo*. Abbiamo bisogno di aggiungere altri elementi al linguaggio di programmazione."
   ]
  },
  {
   "cell_type": "markdown",
   "metadata": {},
   "source": [
    "## 1.5 Variabili Booleane ed Espressioni Logiche\n",
    "Una variabile booleana `p` è un simbolo che prende un valore booleano: `p` è uguale a *vero*, oppure è uguale a *falso*, non può mai assumere i due valori allo stesso tempo, e deve sempre essere uguale a uno (e uno solo) dei due. L'aggettivo *booleano* si deve a [George Boole](https://en.wikipedia.org/wiki/George_Boole), il pioniere della [logica booleana](https://en.wikipedia.org/wiki/Boolean_algebra).\n",
    "\n",
    "In Python, i due valori booleani sono dati primitivi, rappresentati dai simboli `True` e `False`. In pratica, `True` e `False` sono altre due parole chiave (*keywords*) che sono riservate all'interprete del linguaggio, e non possono essere usate per definire variabili o funzioni.\n"
   ]
  },
  {
   "cell_type": "code",
   "execution_count": null,
   "metadata": {},
   "outputs": [],
   "source": [
    "True"
   ]
  },
  {
   "cell_type": "code",
   "execution_count": null,
   "metadata": {},
   "outputs": [],
   "source": [
    "True = 13"
   ]
  },
  {
   "cell_type": "code",
   "execution_count": null,
   "metadata": {},
   "outputs": [],
   "source": [
    "return = 12"
   ]
  },
  {
   "cell_type": "markdown",
   "metadata": {},
   "source": [
    "In qualsiasi linguaggio di programmazione, oltre alle espressioni aritmetiche, è possibile valutare delle espressioni logiche, utilizzando gli operatori logici `and`, `or`, e `not`. Le tabelle logiche degli operatori `and` e `or` sono:\n",
    "\n",
    "| Primo operando | Secondo operando | `and` | `or` |\n",
    "|:--:|:--:|:--:|:--:|\n",
    "| `False` | `False` | `False` | `False` | \n",
    "| `False` | `True ` | `False` | `True`  |\n",
    "| `True`  | `False` | `False` | `True`  |\n",
    "| `True`  | `True`  | `True`  | `True`  |\n"
   ]
  },
  {
   "cell_type": "code",
   "execution_count": null,
   "metadata": {},
   "outputs": [],
   "source": [
    "True and False"
   ]
  },
  {
   "cell_type": "code",
   "execution_count": null,
   "metadata": {},
   "outputs": [],
   "source": [
    "True or False"
   ]
  },
  {
   "cell_type": "code",
   "execution_count": null,
   "metadata": {},
   "outputs": [],
   "source": [
    "False and False or True"
   ]
  },
  {
   "cell_type": "code",
   "execution_count": null,
   "metadata": {},
   "outputs": [],
   "source": [
    "True or False and False"
   ]
  },
  {
   "cell_type": "markdown",
   "metadata": {},
   "source": [
    "**DOMANDA**: guardando gli ultimi due esempi, si riesce a capire se l'operatore `and` ha la precedenza sull'operatore `or`? La descrizione completa delle precedenze sugli operatori si trova nella [documentazione ufficiale](https://docs.python.org/3/reference/expressions.html#operator-precedence).\n",
    "\n",
    "Anche per gli operatori logici è possibile usare una notazione prefix, importando la libreria `operator`:"
   ]
  },
  {
   "cell_type": "code",
   "execution_count": null,
   "metadata": {},
   "outputs": [],
   "source": [
    "# Importa dalla libreria solo i tre operatori logici\n",
    "from operator import and_, or_, not_\n"
   ]
  },
  {
   "cell_type": "code",
   "execution_count": null,
   "metadata": {},
   "outputs": [],
   "source": [
    "not_(or_(True, and_(False, True)))"
   ]
  },
  {
   "cell_type": "code",
   "execution_count": null,
   "metadata": {},
   "outputs": [],
   "source": [
    "In alternativa, per dichiarare una precedenza tra gli operatori si possono usare le parentesi tonde:"
   ]
  },
  {
   "cell_type": "code",
   "execution_count": null,
   "metadata": {},
   "outputs": [],
   "source": [
    "not (True or (False and True))"
   ]
  },
  {
   "cell_type": "markdown",
   "metadata": {},
   "source": [
    "### Operatori logici di confronto\n",
    "Oltre agli operatori logici è possibile utilizzare gli operatori di confronto seguenti:\n",
    "\n",
    "| Simbolo matematico | Keyword Python | Notazione prefix |\n",
    "|:--:|:--:|:--:|\n",
    "|  $a < b$  | `a < b`   | `lt(a, b)` | \n",
    "|  $a \\leq b$  | `a <= b`   | `le(a, b)` | \n",
    "|  $a > b$  | `a > b`   | `gt(a, b)` | \n",
    "|  $a \\geq b$  | `a >= b`   | `ge(a, b)` | \n",
    "|  $a = b$  | `a == b`   | `eq(a, b)` | \n",
    "|  $a <> b$  | `a != b`   | `neq(a, b)` | "
   ]
  },
  {
   "cell_type": "code",
   "execution_count": null,
   "metadata": {},
   "outputs": [],
   "source": [
    "# Importa dalla libreria solo i tre operatori logici\n",
    "from operator import lt, le, gt, ge, eq"
   ]
  },
  {
   "cell_type": "markdown",
   "metadata": {},
   "source": [
    "**IMPORTANTE:** non si confonda l'operatore di assegnamento `=` con l'operatore di confronto `==`, in quanto hanno due significati completamente diversi.\n"
   ]
  },
  {
   "cell_type": "code",
   "execution_count": null,
   "metadata": {},
   "outputs": [],
   "source": [
    "True == True"
   ]
  },
  {
   "cell_type": "code",
   "execution_count": null,
   "metadata": {},
   "outputs": [],
   "source": [
    "6*3 < 7*2"
   ]
  },
  {
   "cell_type": "code",
   "execution_count": null,
   "metadata": {},
   "outputs": [],
   "source": [
    "14*2 == 4*7"
   ]
  },
  {
   "cell_type": "code",
   "execution_count": null,
   "metadata": {},
   "outputs": [],
   "source": [
    "eq(14*2, 4*7)"
   ]
  },
  {
   "cell_type": "code",
   "execution_count": null,
   "metadata": {},
   "outputs": [],
   "source": [
    "le(3*2, ge(2,3))"
   ]
  },
  {
   "cell_type": "markdown",
   "metadata": {},
   "source": [
    "**DOMANDA**: Cosa osservate dall'espressione precedente? La **sintassi** è corretta? Qual'è la sua **semantica** (come viene valutata l'espressione)?\n"
   ]
  },
  {
   "cell_type": "markdown",
   "metadata": {},
   "source": [
    "## 1.6 Espressioni condizionali e predicati\n",
    "Qualsiasi linguaggio di programmazione deve avere un modo per poter verificare delle condizioni particolari e applicare delle procedure specifiche in base all'esito di tali condizioni. Ovvero, si devono poter definire delle **espressioni condizionali**. In Python la sintassi per le espressioni condizionali è la seguente:\n",
    "\n",
    "```\n",
    "if <predicato1>:\n",
    "    <body1>\n",
    "elif <predicato2>:\n",
    "    <body2>\n",
    "else:\n",
    "    <body3>\n",
    "```\n",
    "\n",
    "Per **predicato** si intende una *espressione logica* o una procedura (meglio, una **funzione**) che restituisce un valore booleano, ovvero `True` o `False`.\n",
    "\n",
    "Per definire delle espressioni logiche, si possono utilizzare gli operatori di confronto e gli operatori logici. Oppure, si possono usare nuovi predicati definiti nel programma che si sta scrivendo.\n",
    "\n",
    "**ESEMPIO**:"
   ]
  },
  {
   "cell_type": "code",
   "execution_count": null,
   "metadata": {},
   "outputs": [],
   "source": [
    "if not 3 > 4:\n",
    "    a = 3*2\n",
    "else:\n",
    "    a = 4*2"
   ]
  },
  {
   "cell_type": "code",
   "execution_count": null,
   "metadata": {},
   "outputs": [],
   "source": [
    "a"
   ]
  },
  {
   "cell_type": "code",
   "execution_count": null,
   "metadata": {},
   "outputs": [],
   "source": [
    "print(a)"
   ]
  },
  {
   "cell_type": "code",
   "execution_count": null,
   "metadata": {},
   "outputs": [],
   "source": [
    "def Test(x):\n",
    "    return x > 5 and x < 10"
   ]
  },
  {
   "cell_type": "code",
   "execution_count": null,
   "metadata": {},
   "outputs": [],
   "source": [
    "Test(2)\n"
   ]
  },
  {
   "cell_type": "code",
   "execution_count": null,
   "metadata": {},
   "outputs": [],
   "source": [
    "Test(6)"
   ]
  },
  {
   "cell_type": "code",
   "execution_count": null,
   "metadata": {},
   "outputs": [],
   "source": [
    "def ThreeAnd(x,y,z):\n",
    "    return x and y and z"
   ]
  },
  {
   "cell_type": "code",
   "execution_count": null,
   "metadata": {},
   "outputs": [],
   "source": [
    "ThreeAnd(2>4, 1<2, 1==3)"
   ]
  },
  {
   "cell_type": "markdown",
   "metadata": {},
   "source": [
    "A questo punto, abbiamo tutti gli elementi per poter scrivere la funzione valore assoluto definita nella Sezione 1.4.\n"
   ]
  },
  {
   "cell_type": "code",
   "execution_count": null,
   "metadata": {},
   "outputs": [],
   "source": [
    "def Abs(x):\n",
    "    if x >= 0:\n",
    "        return x\n",
    "    else:\n",
    "        return -x"
   ]
  },
  {
   "cell_type": "code",
   "execution_count": null,
   "metadata": {},
   "outputs": [],
   "source": [
    "Abs(-3)"
   ]
  },
  {
   "cell_type": "code",
   "execution_count": null,
   "metadata": {},
   "outputs": [],
   "source": [
    "Abs(5)"
   ]
  },
  {
   "cell_type": "markdown",
   "metadata": {},
   "source": [
    "## Esercizi\n",
    "\n",
    "### Esercizio 1.3\n",
    "Viene data sotto una serie di espressioni. Qual è il risultato dell'interprete in risposta a ciascuna espressione? Si assuma che la sequenza viene valutata nell'ordine in cui vi viene presentata.\n",
    "\n",
    "\n",
    "```\n",
    "from operator import add, sub, mul\n",
    "10\n",
    "5 + 3 + 4\n",
    "sub(9, 1)\n",
    "add(mul(2, 4), sub(4, 6))\n",
    "a = 3\n",
    "b = add(a, 1)\n",
    "a = b\n",
    "b = add(a, add(b, mul(a, b)))\n",
    "if gt(a, b) = lt(b, mul(a, b)):\n",
    "    print(b)\n",
    "else:\n",
    "    print(a)\n",
    "```"
   ]
  },
  {
   "cell_type": "code",
   "execution_count": null,
   "metadata": {},
   "outputs": [],
   "source": [
    "# Da svolgere su carta"
   ]
  },
  {
   "cell_type": "markdown",
   "metadata": {},
   "source": [
    "### Esercizio 1.4: Si traduca l'espressione seguente in notazione *prefix*:\n",
    "\n",
    "$\\frac{5+4+(2 - (3 - ( 6 + \\frac{4}{5})))}{3(6-2)(2-7)}$"
   ]
  },
  {
   "cell_type": "code",
   "execution_count": null,
   "metadata": {},
   "outputs": [],
   "source": [
    "# Da svolgere su carta"
   ]
  },
  {
   "cell_type": "markdown",
   "metadata": {},
   "source": [
    "### Esercizio 1.5\n",
    "Si scriva una procedura che prenda tre numeri come argomenti e restituisca la somma dei quadrati dei due numeri più grandi.\n"
   ]
  },
  {
   "cell_type": "code",
   "execution_count": null,
   "metadata": {},
   "outputs": [],
   "source": [
    "# Risolvi sotto\n",
    "# ..."
   ]
  },
  {
   "cell_type": "markdown",
   "metadata": {},
   "source": [
    "### Esercizio 1.6\n",
    "Si osservi che il modello di valutazione dell'interprete visto sino ad ora permette la valutazione di procedure in cui si hanno procedure composte. Si osservi l'esempio seguente e si commenti il comportamento dell'interprete in questo caso:"
   ]
  },
  {
   "cell_type": "code",
   "execution_count": null,
   "metadata": {},
   "outputs": [],
   "source": [
    "from operator import add, sub\n",
    "def F(a, b):\n",
    "    if b > 0:\n",
    "        return add\n",
    "    else:\n",
    "        return sub\n",
    "    \n",
    "def G(a, b):\n",
    "    return F(a,b)(a,b)"
   ]
  },
  {
   "cell_type": "code",
   "execution_count": null,
   "metadata": {},
   "outputs": [],
   "source": [
    "# Cosa succede ora?"
   ]
  },
  {
   "cell_type": "code",
   "execution_count": null,
   "metadata": {},
   "outputs": [],
   "source": [
    "G(-2,-3)"
   ]
  },
  {
   "cell_type": "markdown",
   "metadata": {},
   "source": [
    "### Esercizio 1.7\n",
    "Il sig. Bit ha inventato un test per determinare se l'interprete del linguaggio che sta usando segue un *applicative-order evaluation* oppure un *normal-order evaluation*. L'idea è di definire due procedure:\n"
   ]
  },
  {
   "cell_type": "code",
   "execution_count": null,
   "metadata": {},
   "outputs": [],
   "source": [
    "def P():\n",
    "    return P()"
   ]
  },
  {
   "cell_type": "code",
   "execution_count": null,
   "metadata": {},
   "outputs": [],
   "source": [
    "def Test(x, y):\n",
    "    if x == 0:\n",
    "        return 0\n",
    "    else:\n",
    "        return y"
   ]
  },
  {
   "cell_type": "markdown",
   "metadata": {},
   "source": [
    "e poi de valutare l'espressione:\n",
    "\n",
    "```\n",
    "Test(0,P())\n",
    "```\n",
    "\n",
    "Quale comportamento osserverà il signor Bit con un interprete che usa una *applicative-order evaluation*? Quale comportamento osserverà con un interprete che usa una *normal-order evaluation*? Spiegare la risposta data.\n"
   ]
  },
  {
   "cell_type": "code",
   "execution_count": null,
   "metadata": {},
   "outputs": [],
   "source": [
    "Test(0,P())"
   ]
  }
 ],
 "metadata": {
  "@webio": {
   "lastCommId": null,
   "lastKernelId": null
  },
  "kernelspec": {
   "display_name": "Python 3 (ipykernel)",
   "language": "python",
   "name": "python3"
  },
  "language_info": {
   "codemirror_mode": {
    "name": "ipython",
    "version": 3
   },
   "file_extension": ".py",
   "mimetype": "text/x-python",
   "name": "python",
   "nbconvert_exporter": "python",
   "pygments_lexer": "ipython3",
   "version": "3.9.12"
  }
 },
 "nbformat": 4,
 "nbformat_minor": 2
}
