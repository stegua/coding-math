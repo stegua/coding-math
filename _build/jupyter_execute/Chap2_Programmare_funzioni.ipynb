{
 "cells": [
  {
   "cell_type": "markdown",
   "id": "8eca30bf",
   "metadata": {},
   "source": [
    "# 2. Programmare funzioni\n",
    "**ULTIMA MODIFICA: 13.10.2022**"
   ]
  },
  {
   "cell_type": "markdown",
   "id": "028f6357",
   "metadata": {},
   "source": [
    "## 2.1 Calcolo della radice quadrata di un numero\n",
    "Le procedure che abbiamo introdotto sino ad ora sono essenzialmente delle **funzioni matematiche** che specificano un valore di *output* che viene calcolato a partire da uno o più parametri di *input*. A differenze delle funzioni definite in matematica \"*teorica*\", le procedure definite al calcolatore devono essere anche **efficienti**, ovvero devono terminare la loro esecuzione in tempo breve. Proviamo a vedere un semplice esempio pratico di cosa vuol dire avere una procedura efficiente.\n",
    "\n",
    "Si consideri la definizione matematica seguente:\n",
    "\n",
    "$$\\sqrt{x} = y \\quad \\mbox{ se e solo se }\\quad y \\geq 0 \\mbox{ e } y^2 = x$$\n",
    "\n",
    "Queste definizione è senz'altro corretta da un punto di vista matematico. Potremmo usare questa definizione per controllare se un dato numero $y$, esso sia la radice quadrata di un altro numero $x$. Tuttavia, questa definizione non descrive una procedura per calcolare la radice quadrata di $x$.\n",
    "\n",
    "Per poter calcolare la radice quadrata di un numero abbiamo bisogno di un **Algoritmo** che viene *implementato* con una o più procedure di supporto.\n",
    "\n",
    "In questa sezione, usiamo l'esempio del calcolo della radice quadrata per mostrare tre metodi fondamentali per risolvere dei problemi:\n",
    "\n",
    "1. Ricerca di una soluzione per **Enumerazione Esaustiva** (ovvero per semplice *forza bruta*).\n",
    "2. Ricerca di una soluzione usando un **Metodo di Bisezione**: lo spazio di ricerca viene ripetutamente ristretto, sfruttando delle semplici assunzioni di ordinamento sullo spazio di ricerca.\n",
    "3. Ricerca di una soluzione con un **metodo dedicato** (ovvero il *medoto di Newton*) che sfrutta la struttura del problema che vogliamo risolvere per ottenere un algoritmo efficiente.\n",
    "\n",
    "Prima di procedere, diamo sotto una definzione formale di *Algoritmo*:\n",
    "\n",
    "**TODO: aggiungi definizione formale**."
   ]
  },
  {
   "cell_type": "markdown",
   "id": "63f26dca",
   "metadata": {},
   "source": [
    "### 2.1.1 Enumerazione Esaustiva\n",
    "Se ci limitiamo a considerare i numeri interi, potremmo utilizzare la definizione precedente per trovare la radice quadrata di un numero intero positivo attraverso una **enumerazione esaustiva**: per trovare la radice quadrata di $x$, possiamo provare tutti i numeri da $x$ a 1, e verificare ogni volta se il numero \"tentativo\" sia il quadrato dell'altro. \n",
    "\n",
    "**ESERCIZIO 2.1**: Scrivere una procedura (funzione) che prende in input un numero intero maggiore o uguale a 1, e prova tutti i numeri da $x$ a 1. Se la funzione trova la radice quadrata esatta la restituisce, altrimenti restituisce `nan` (ovvero, *not a number*)."
   ]
  },
  {
   "cell_type": "code",
   "execution_count": 1,
   "id": "e47f140f",
   "metadata": {},
   "outputs": [
    {
     "name": "stdout",
     "output_type": "stream",
     "text": [
      "radice di 16 4\n",
      "radice di 17 -1\n",
      "ERRORE: la funzione prende in input solo numeri interi positivi\n",
      "radice di 2.5 nan\n"
     ]
    }
   ],
   "source": [
    "# Radice intera di un numero naturale per enumerazione\n",
    "def SqrtInt(x):\n",
    "    # Controllo sui dati di input\n",
    "    if type(x) != int or x < 0:\n",
    "        print('ERRORE: la funzione prende in input solo numeri interi positivi')\n",
    "        return float('nan')\n",
    "        \n",
    "    # Definisco una funzione interna, in modo che la funzione che \"espongo\"\n",
    "    # prende un singolo parametro di input\n",
    "    def Rec(y):\n",
    "        if y < 0:\n",
    "            return -1\n",
    "        if y*y == x:\n",
    "            return y\n",
    "        return Rec(y-1)\n",
    "    \n",
    "    # NOTA: per dimezzare il numero di chiamate ricorsive, posso trattare a \n",
    "    #       parte il caso x==1, e per x>=2, posso dividere x per 2\n",
    "    if x == 1:\n",
    "        return 1\n",
    "    \n",
    "    # La radice intera di un numero intero x è minore di x/2\n",
    "    return Rec(x//2)\n",
    "    \n",
    "print('radice di 16', SqrtInt(16))\n",
    "print('radice di 17', SqrtInt(17))\n",
    "print('radice di 2.5', SqrtInt(2.5))"
   ]
  },
  {
   "cell_type": "markdown",
   "id": "0fa3774b",
   "metadata": {},
   "source": [
    "Si osservi che la stringa `nan` può essere convertita ad un dato di tipo `float`."
   ]
  },
  {
   "cell_type": "code",
   "execution_count": 2,
   "id": "7adf5164",
   "metadata": {},
   "outputs": [
    {
     "data": {
      "text/plain": [
       "str"
      ]
     },
     "execution_count": 2,
     "metadata": {},
     "output_type": "execute_result"
    }
   ],
   "source": [
    "type('nan')"
   ]
  },
  {
   "cell_type": "code",
   "execution_count": 3,
   "id": "e9d6ce07",
   "metadata": {},
   "outputs": [
    {
     "data": {
      "text/plain": [
       "float"
      ]
     },
     "execution_count": 3,
     "metadata": {},
     "output_type": "execute_result"
    }
   ],
   "source": [
    "type(float('nan'))"
   ]
  },
  {
   "cell_type": "markdown",
   "id": "3f981558",
   "metadata": {},
   "source": [
    "**DOMANDE:** \n",
    "1. Come fare per trovare la radice quadrata di un numero reale positivo? \n",
    "2. Cosa vuol dire che due numeri reali sono **uguali**?\n",
    "3. Come viene valutata l'espressione logica: $$\\frac{1}{10}+\\frac{1}{10}+\\frac{1}{10} = \\frac{3}{10}$$"
   ]
  },
  {
   "cell_type": "code",
   "execution_count": 4,
   "id": "2625b0eb",
   "metadata": {},
   "outputs": [
    {
     "data": {
      "text/plain": [
       "False"
      ]
     },
     "execution_count": 4,
     "metadata": {},
     "output_type": "execute_result"
    }
   ],
   "source": [
    "1/10+1/10+1/10 == 3/10"
   ]
  },
  {
   "cell_type": "markdown",
   "id": "0784ebe7",
   "metadata": {},
   "source": [
    "**ATTENZIONE**: Bisogna fare molta attenzione quando si **confrontano** i numeri reali al calcolatore.\n",
    "\n",
    "Rivediamo quindi leggermente la definizione di radice quadrata, introducendo il concetto di **tolleranza numerica**. In pratica, cerchiamo un numero reale positivo tale che\n",
    "\n",
    "$$\\sqrt{x} \\simeq y \\quad \\mbox{ tale che } \\quad |y^2 - x| < \\epsilon,  \\quad y \\geq 0, \\epsilon>0 $$\n",
    "\n",
    "dove $\\epsilon$ è una costante molto piccola, per esempio $\\epsilon=10^{-7}$.\n",
    "\n",
    "**DOMANDA:** Quante operazioni aritmetiche e logiche dobbiamo eseguire prima di ottenere un risultato?"
   ]
  },
  {
   "cell_type": "markdown",
   "id": "418fb797",
   "metadata": {},
   "source": [
    "### 2.1.2 Ricerca per bisezione\n",
    "Potremmo cercare di migliorare la procedura di enumerazione esaustiva assumendo che i numeri che dobbiamo controllare siano ordinati in ordine crescente (o decrescente). In questo modo, potremmo evitare di controllare tutti i numeri, uno alla volta, e potremmo cercare di fare dei \"salti\" sfruttando la proprietà che i numeri sono ordinati.\n",
    "\n",
    "**ESERCIZIO 2.2**: Scrivere una procedura che, per trovare la radice quadrata di un numero, ogni volta divide l'intervallo di ricerca in due parti uguali, e continua ad esplorare solo la parte in cui effettivamente si può trovare la radice cercata."
   ]
  },
  {
   "cell_type": "code",
   "execution_count": 5,
   "id": "d3a51a6d",
   "metadata": {},
   "outputs": [
    {
     "name": "stdout",
     "output_type": "stream",
     "text": [
      "1.4142135381698608\n"
     ]
    }
   ],
   "source": [
    "# Radice di un numero positivo per bisezione\n",
    "def RadiceBisezione(x, eps=1e-7, verbose=False):\n",
    "    # NOTA: usando la notazione per \"eps=\", stiamo assegnando un valore di\n",
    "    #       default al secondo parametro formale di input\n",
    "    \n",
    "    if type(x) != float and type(x) != int:\n",
    "        print('ERRORE: la funzione prende in input solo dati numerici di tipo int o float')\n",
    "        return float('nan')\n",
    "    \n",
    "    if x < 0:\n",
    "        print('ERRORE: la funzione prende in input solo numeri positivi')\n",
    "        return float('nan')\n",
    "        \n",
    "    def Rec(a, b):\n",
    "        # Nuovo valore tentativo per la soluzione\n",
    "        y = (a+b)/2\n",
    "        \n",
    "        # Stampo a video il progresso dell'intervallo e dell'errore        \n",
    "        # NOTA BENE: la stampa a video serve solo a scopo didattico.\n",
    "        #            una volta che si è verificata la correttezza dell'implementazione\n",
    "        #            la stampa a video va rimossa, oppure inserita \n",
    "        #            come parametro opzionale (come fatto in questo caso)\n",
    "        if verbose:\n",
    "            print(y, a, b, abs(b - a)/2)\n",
    "        \n",
    "        # Errore teorico del metodo per bisezione\n",
    "        if abs(b - a)/2 < eps:\n",
    "            return y        \n",
    "        \n",
    "        y2 = y*y\n",
    "        \n",
    "        # Errore sul quadrato del numero\n",
    "        if abs(y2 - x) < eps:\n",
    "            return y\n",
    "        \n",
    "        # Devo decidere su quale intervallo continuare la ricerca per bisezione\n",
    "        if y2 < x:\n",
    "            return Rec(y, b)        \n",
    "        \n",
    "        return Rec(a, y)\n",
    "    \n",
    "    # Ricordarsi di chiamare almeno una volta la funzione ricorsiva interna\n",
    "    return Rec(0, x)\n",
    "\n",
    "# Valore di defualt di eps\n",
    "print(RadiceBisezione(2))"
   ]
  },
  {
   "cell_type": "code",
   "execution_count": 6,
   "id": "e68f6ac5",
   "metadata": {},
   "outputs": [
    {
     "name": "stdout",
     "output_type": "stream",
     "text": [
      "1.4141845703125\n"
     ]
    }
   ],
   "source": [
    "# Provare con diversi valori di eps\n",
    "print(RadiceBisezione(2, 1e-4))"
   ]
  },
  {
   "cell_type": "markdown",
   "id": "71b52b30",
   "metadata": {},
   "source": [
    "### 2.1.3 Il metodo di Newton\n",
    "Il metodo numerico più usato per calcolare la radice quadrata è il metodo di approssimazioni successive introdotto da Newton. Il metodo consiste nel trovare la soluzione attraverso aggiustamenti successivi di una soluzione tentativo: se abbiamo un valore $y$ che rappresenta il valore tentativo della radice quadrata di un altro numero $x$  possiamo ottenere una approssimazione più accurata calcolando la media tra $y$ e $x/y$. \n",
    "\n",
    "Il metodo di Newtnon consiste quindi di partire da un $y_0>0$ e ad ogni iterazione di calcolare:\n",
    "\n",
    "$$y_{i+1} = \\frac{y_i + \\frac{x}{y_i}}{2}$$\n",
    "\n",
    "**ESEMPIO:** Ricerca della radice quadrata di 2.\n",
    "\n",
    "| Valore Tentativo $y$ | Quoziente $x/y$ | Media tra $y$ e $x/y$ |\n",
    "|    :--:   |    :--:    |    :--:    |\n",
    "|  1  |  2/1  | (1+2)/2=1.5 | \n",
    "|  1.5  |  2/1.5=1.3333  | (1.3333+1.5)/2=1.4167 |\n",
    "|  1.4167  |  2/1.4167=1.4118  | (1.4118 + 1.4167)/2=1.4142 |\n",
    "| 1.4142 | ... | ... |\n",
    "\n",
    "**ESERCIZIO 2.3**: Scrivere una o più procedure per trovare la radice quadrata di un numero, utilizzando il metodo di Newton scritto sopra."
   ]
  },
  {
   "cell_type": "code",
   "execution_count": 7,
   "id": "fbc655b8",
   "metadata": {},
   "outputs": [
    {
     "name": "stdout",
     "output_type": "stream",
     "text": [
      "1.5 0.25\n",
      "1.4166666666666665 0.006944444444444198\n",
      "1.4142156862745097 6.007304882427178e-06\n",
      "1.4142135623746899 4.510614104447086e-12\n",
      "1.414213562373095 4.440892098500626e-16\n",
      "1.414213562373095 4.440892098500626e-16\n",
      "1.414213562373095\n"
     ]
    }
   ],
   "source": [
    "def RadiceNewton(x, eps=1e-07, verbose=False):\n",
    "    # Controllo sui dati di input\n",
    "    if type(x) != float and type(x) != int:\n",
    "        print('ERRORE: la funzione prende in input solo dati numerici di tipo int o float')\n",
    "        return float('nan')\n",
    "    \n",
    "    if x < 0:\n",
    "        print('ERRORE: la funzione prende in input solo numeri positivi')\n",
    "        return float('nan')\n",
    "        \n",
    "    def Rec(y):  \n",
    "        # Calcola il prossimo valore tentativo usando la formula di Newton\n",
    "        z = 0.5*(y + x/y)\n",
    "        \n",
    "        # Stampa a video il progresso della ricorsione (se richiesto)\n",
    "        if verbose:\n",
    "            print(z, abs(z*z - x))\n",
    "        \n",
    "        # Analisi dell'errore come spiegato sotto nella Sezione 2.1.4\n",
    "        if abs(z - y) < eps:\n",
    "            return z\n",
    "        \n",
    "        return Rec(z)\n",
    "    \n",
    "    # NOTA: attenzione, si deve trattare a parte il caso x==0\n",
    "    if x == 0:\n",
    "        return 0\n",
    "    return Rec(x)\n",
    "\n",
    "print(RadiceNewton(2, 1e-13, verbose=True))"
   ]
  },
  {
   "cell_type": "code",
   "execution_count": 8,
   "id": "732a07dc",
   "metadata": {},
   "outputs": [
    {
     "name": "stdout",
     "output_type": "stream",
     "text": [
      "0.7071067811865475\n"
     ]
    }
   ],
   "source": [
    "print(RadiceNewton(0.5, 1e-13))"
   ]
  },
  {
   "cell_type": "code",
   "execution_count": 9,
   "id": "21c69016",
   "metadata": {},
   "outputs": [
    {
     "name": "stdout",
     "output_type": "stream",
     "text": [
      "0.4999999999999999\n"
     ]
    }
   ],
   "source": [
    "print(RadiceNewton(0.5, 1e-13)*RadiceNewton(0.5, 1e-13))"
   ]
  },
  {
   "cell_type": "markdown",
   "id": "ba52180d",
   "metadata": {},
   "source": [
    "**DOMANDA:** è possibile trovare un criterio di arresto alternativo, che sia espresso in funzione dell'errore commesso nel calcolo della radice quadrata? (Ovviamente senza conoscere il valore esatto della radice quadrata...)"
   ]
  },
  {
   "cell_type": "markdown",
   "id": "b16faa21",
   "metadata": {},
   "source": [
    "### 2.1.4 Errore di Approssimazione con il metodo di Newton\n",
    "Studiamo ora come stimare l'errore del metodo di Newton, senza conoscere il valore esatto di $\\sqrt{x}$. Chiamiamo $E_i$ l'errore di approssimazione commesso al passo $i$-esimo:\n",
    "\n",
    "$$E_i = y_i - \\sqrt{x}$$\n",
    "\n",
    "da cui possiamo anche ricavare\n",
    "\n",
    "$$y_i = \\sqrt{x} + E_i$$\n",
    "\n",
    "L'errore che avremo alla prossima iterazione, sarà pari a\n",
    "\n",
    "$$E_{i+1} = y_{i+1} - \\sqrt{x} = \\frac{y_i + \\frac{x}{y_i}}{2} - \\sqrt{x} = \\frac{y_i^2 - 2 y_i \\sqrt{x_i} +x}{2 y_i} = \\frac{(y_i - \\sqrt{x})^2}{2 y_i}= \\frac{E_i^2}{2 y_i}$$\n",
    "\n",
    "Facendo un po' di conti a partire dall'espressione precedente, si arriva a far vedere che \n",
    "\n",
    "$$E_{i+1} = \\frac{E_i^2}{2 y_i} \\geq 0$$\n",
    "\n",
    "In pratica, dopo il primo tentativo $y_0 > 0$, tutti gli errori successivi saranno sempre positivi, quindi e l'errore ad ogni iterazione diventa sempre più piccolo, in quanto\n",
    "\n",
    "$$E_i = y_i - \\sqrt{x} < y_i \\quad \\mbox{ e quindi } 0 \\leq \\frac{E_i}{y_i} <1$$\n",
    "\n",
    "e inoltre\n",
    "\n",
    "$$E_{i+1} = \\frac{E_i^2}{2 y_i} = \\frac{E_i}{y_i} \\times \\frac{E_i}{2} < \\frac{E_i}{2}$$"
   ]
  },
  {
   "cell_type": "markdown",
   "id": "8fe6db69",
   "metadata": {},
   "source": [
    "Riassumendo, abbiamo mostrato che l'errore diventa sempre più piccolo in quanto\n",
    "\n",
    "$$0 \\leq E_{i+1} < \\frac{E_i}{2} < E_i.$$\n",
    "\n",
    "Vediamo ora come possiamo usare le espressioni precedenti per ottenere un criterio di arresto usando una stima sull'errore. Dalle relazioni precedenti abbiamo che\n",
    "\n",
    "$$0 \\leq y_{i+1} - \\sqrt{x} < y_{i} - \\sqrt{x}$$\n",
    "\n",
    "da cui \n",
    "\n",
    "$$\\sqrt{x} \\leq y_{i+1} < y_{i}$$\n",
    "\n",
    "**TODO: aggiungi figura**"
   ]
  },
  {
   "cell_type": "markdown",
   "id": "6a78081d",
   "metadata": {},
   "source": [
    "Se riprendiamo la definzione di errore ad una data iterazione $i$, abbiamo che \n",
    "\n",
    "$$E_i = y_i - \\sqrt{x}= y_i - y_{i+1} + y_{i+1} -\\sqrt{x} = (y_i - y_{i+1}) + E_{i+1} < (y_i - y_{i+1}) + \\frac{E_{i}}{2}$$\n",
    "\n",
    "ovvero\n",
    "\n",
    "$$0 \\leq \\frac{E_i}{2} < y_i - y_{i+1}.$$\n",
    "\n",
    "In pratica, se si vuole calcolare la radice quadrata di un numero reale positivo con un margine di errore minore di $\\epsilon > 0$, basterà verificare la condizione:\n",
    "\n",
    "$$y_i - y_{i+1} < \\epsilon.$$"
   ]
  },
  {
   "cell_type": "markdown",
   "id": "34df6f65",
   "metadata": {},
   "source": [
    "### 2.1.5 Confronto tra le tre funzioni trovate\n",
    "Possiamo provare a fare un piccolo confronto tra le tre funzioni trovate in termini di efficienza, andando a contare, per esempio, quante volte è stata chiamata la funzione ricorsiva. Per poterlo fare, si deve aggiungere un parametro formale che viene incrementato di uno ogni volta che si effettua una chiamata ricorsiva. Tale valore può essere stampato a video prima di restituire il valore finale.\n",
    "\n",
    "**ESERCIZIO 2.4**: Modificare le procedure precedenti per contare il numero di chiamate ricorsive con le tre procedure precedenti: \n",
    "\n",
    "1. Enumerazione Esaustiva\n",
    "2. Metodo di Bisezione\n",
    "3. Metodo di Newton"
   ]
  }
 ],
 "metadata": {
  "@webio": {
   "lastCommId": null,
   "lastKernelId": null
  },
  "kernelspec": {
   "display_name": "Python 3 (ipykernel)",
   "language": "python",
   "name": "python3"
  },
  "language_info": {
   "codemirror_mode": {
    "name": "ipython",
    "version": 3
   },
   "file_extension": ".py",
   "mimetype": "text/x-python",
   "name": "python",
   "nbconvert_exporter": "python",
   "pygments_lexer": "ipython3",
   "version": "3.8.5"
  }
 },
 "nbformat": 4,
 "nbformat_minor": 5
}